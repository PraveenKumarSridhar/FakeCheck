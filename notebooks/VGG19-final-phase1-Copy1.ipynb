{
 "cells": [
  {
   "cell_type": "markdown",
   "id": "48760c51-18e5-498d-a332-ae613bce3c6b",
   "metadata": {},
   "source": [
    "# Imports, Settings, and Globals"
   ]
  },
  {
   "cell_type": "code",
   "execution_count": 4,
   "id": "cefda5a6",
   "metadata": {
    "execution": {
     "iopub.execute_input": "2023-02-15T05:45:03.929456Z",
     "iopub.status.busy": "2023-02-15T05:45:03.929056Z",
     "iopub.status.idle": "2023-02-15T05:45:03.941779Z",
     "shell.execute_reply": "2023-02-15T05:45:03.940776Z",
     "shell.execute_reply.started": "2023-02-15T05:45:03.929422Z"
    }
   },
   "outputs": [],
   "source": [
    "from sklearn.model_selection import train_test_split\n",
    "from keras.utils.np_utils import to_categorical\n",
    "from pylab import *\n",
    "from keras.callbacks import LearningRateScheduler\n",
    "from keras import models\n",
    "from keras import layers\n",
    "import numpy as np\n",
    "import matplotlib.pyplot as plt\n",
    "from keras.applications.vgg19 import VGG19\n",
    "import itertools\n",
    "from sklearn.metrics import confusion_matrix\n",
    "from keras import optimizers\n",
    "from PIL import Image\n",
    "import pandas as pd\n",
    "import os\n",
    "from sklearn.metrics import confusion_matrix, ConfusionMatrixDisplay\n",
    "from sklearn.metrics import f1_score\n",
    "from tensorflow.keras.preprocessing.image import ImageDataGenerator\n"
   ]
  },
  {
   "cell_type": "markdown",
   "id": "355dee45-2c76-4382-a98e-4b2f85e67989",
   "metadata": {},
   "source": [
    "# VGG19 with Initial Parameters "
   ]
  },
  {
   "cell_type": "code",
   "execution_count": 5,
   "id": "00a6fcc5",
   "metadata": {
    "execution": {
     "iopub.execute_input": "2023-02-15T05:45:06.204334Z",
     "iopub.status.busy": "2023-02-15T05:45:06.203343Z",
     "iopub.status.idle": "2023-02-15T05:45:06.210943Z",
     "shell.execute_reply": "2023-02-15T05:45:06.209654Z",
     "shell.execute_reply.started": "2023-02-15T05:45:06.204267Z"
    }
   },
   "outputs": [],
   "source": [
    "# Controling Learning Rate \n",
    "def step_decay_schedule(initial_lr=1e-3, decay_factor=0.75, step_size=10):\n",
    "        def schedule(epoch):\n",
    "            return initial_lr * (decay_factor ** np.floor(epoch / step_size))\n",
    "        return LearningRateScheduler(schedule)"
   ]
  },
  {
   "cell_type": "code",
   "execution_count": 3,
   "id": "3b4e40d0",
   "metadata": {
    "execution": {
     "iopub.execute_input": "2023-02-15T02:38:56.941179Z",
     "iopub.status.busy": "2023-02-15T02:38:56.940211Z",
     "iopub.status.idle": "2023-02-15T02:39:02.978755Z",
     "shell.execute_reply": "2023-02-15T02:39:02.977962Z",
     "shell.execute_reply.started": "2023-02-15T02:38:56.941141Z"
    }
   },
   "outputs": [
    {
     "name": "stdout",
     "output_type": "stream",
     "text": [
      "Model: \"vgg19\"\n",
      "_________________________________________________________________\n",
      " Layer (type)                Output Shape              Param #   \n",
      "=================================================================\n",
      " input_1 (InputLayer)        [(None, 224, 224, 3)]     0         \n",
      "                                                                 \n",
      " block1_conv1 (Conv2D)       (None, 224, 224, 64)      1792      \n",
      "                                                                 \n",
      " block1_conv2 (Conv2D)       (None, 224, 224, 64)      36928     \n",
      "                                                                 \n",
      " block1_pool (MaxPooling2D)  (None, 112, 112, 64)      0         \n",
      "                                                                 \n",
      " block2_conv1 (Conv2D)       (None, 112, 112, 128)     73856     \n",
      "                                                                 \n",
      " block2_conv2 (Conv2D)       (None, 112, 112, 128)     147584    \n",
      "                                                                 \n",
      " block2_pool (MaxPooling2D)  (None, 56, 56, 128)       0         \n",
      "                                                                 \n",
      " block3_conv1 (Conv2D)       (None, 56, 56, 256)       295168    \n",
      "                                                                 \n",
      " block3_conv2 (Conv2D)       (None, 56, 56, 256)       590080    \n",
      "                                                                 \n",
      " block3_conv3 (Conv2D)       (None, 56, 56, 256)       590080    \n",
      "                                                                 \n",
      " block3_conv4 (Conv2D)       (None, 56, 56, 256)       590080    \n",
      "                                                                 \n",
      " block3_pool (MaxPooling2D)  (None, 28, 28, 256)       0         \n",
      "                                                                 \n",
      " block4_conv1 (Conv2D)       (None, 28, 28, 512)       1180160   \n",
      "                                                                 \n",
      " block4_conv2 (Conv2D)       (None, 28, 28, 512)       2359808   \n",
      "                                                                 \n",
      " block4_conv3 (Conv2D)       (None, 28, 28, 512)       2359808   \n",
      "                                                                 \n",
      " block4_conv4 (Conv2D)       (None, 28, 28, 512)       2359808   \n",
      "                                                                 \n",
      " block4_pool (MaxPooling2D)  (None, 14, 14, 512)       0         \n",
      "                                                                 \n",
      " block5_conv1 (Conv2D)       (None, 14, 14, 512)       2359808   \n",
      "                                                                 \n",
      " block5_conv2 (Conv2D)       (None, 14, 14, 512)       2359808   \n",
      "                                                                 \n",
      " block5_conv3 (Conv2D)       (None, 14, 14, 512)       2359808   \n",
      "                                                                 \n",
      " block5_conv4 (Conv2D)       (None, 14, 14, 512)       2359808   \n",
      "                                                                 \n",
      " block5_pool (MaxPooling2D)  (None, 7, 7, 512)         0         \n",
      "                                                                 \n",
      "=================================================================\n",
      "Total params: 20,024,384\n",
      "Trainable params: 20,024,384\n",
      "Non-trainable params: 0\n",
      "_________________________________________________________________\n"
     ]
    }
   ],
   "source": [
    "# Define VGG19 with initial parameters\n",
    "vgg_conv = VGG19(weights='/kaggle/input/vgg-19-wts/vgg19_weights_tf_dim_ordering_tf_kernels_notop.h5', include_top=False, input_shape=(224, 224, 3))\n",
    "vgg_conv.summary()"
   ]
  },
  {
   "cell_type": "markdown",
   "id": "5f138d2b-a512-4110-972b-55dfaaff17b4",
   "metadata": {},
   "source": [
    "#### We are freezing all the layers of the pre-trained model and adding 2xDense layers and 1XSigmoid layer for binary classification afterwards:  "
   ]
  },
  {
   "cell_type": "code",
   "execution_count": 4,
   "id": "839ac08a",
   "metadata": {
    "execution": {
     "iopub.execute_input": "2023-02-15T02:39:02.980993Z",
     "iopub.status.busy": "2023-02-15T02:39:02.980399Z",
     "iopub.status.idle": "2023-02-15T02:39:03.134094Z",
     "shell.execute_reply": "2023-02-15T02:39:03.133364Z",
     "shell.execute_reply.started": "2023-02-15T02:39:02.980963Z"
    }
   },
   "outputs": [
    {
     "name": "stdout",
     "output_type": "stream",
     "text": [
      "<keras.engine.input_layer.InputLayer object at 0x7fbb3fe14490> False\n",
      "<keras.layers.convolutional.conv2d.Conv2D object at 0x7fbae889bed0> False\n",
      "<keras.layers.convolutional.conv2d.Conv2D object at 0x7fbae889bf50> False\n",
      "<keras.layers.pooling.max_pooling2d.MaxPooling2D object at 0x7fbae3fd3150> False\n",
      "<keras.layers.convolutional.conv2d.Conv2D object at 0x7fbad879bc10> False\n",
      "<keras.layers.convolutional.conv2d.Conv2D object at 0x7fbad87ab890> False\n",
      "<keras.layers.pooling.max_pooling2d.MaxPooling2D object at 0x7fbad87beed0> False\n",
      "<keras.layers.convolutional.conv2d.Conv2D object at 0x7fbad87be8d0> False\n",
      "<keras.layers.convolutional.conv2d.Conv2D object at 0x7fbad87b9410> False\n",
      "<keras.layers.convolutional.conv2d.Conv2D object at 0x7fbad87c82d0> False\n",
      "<keras.layers.convolutional.conv2d.Conv2D object at 0x7fbad87c5350> False\n",
      "<keras.layers.pooling.max_pooling2d.MaxPooling2D object at 0x7fbad87d3090> False\n",
      "<keras.layers.convolutional.conv2d.Conv2D object at 0x7fbad8761590> False\n",
      "<keras.layers.convolutional.conv2d.Conv2D object at 0x7fbad8766910> False\n",
      "<keras.layers.convolutional.conv2d.Conv2D object at 0x7fbad8766150> False\n",
      "<keras.layers.convolutional.conv2d.Conv2D object at 0x7fbad87da8d0> False\n",
      "<keras.layers.pooling.max_pooling2d.MaxPooling2D object at 0x7fbae3f42f90> False\n",
      "<keras.layers.convolutional.conv2d.Conv2D object at 0x7fbae3fd3750> False\n",
      "<keras.layers.convolutional.conv2d.Conv2D object at 0x7fbad879b8d0> False\n",
      "<keras.layers.convolutional.conv2d.Conv2D object at 0x7fbad87b99d0> False\n",
      "<keras.layers.convolutional.conv2d.Conv2D object at 0x7fbad876a750> False\n",
      "<keras.layers.pooling.max_pooling2d.MaxPooling2D object at 0x7fbad87ab150> False\n",
      "Model: \"sequential\"\n",
      "_________________________________________________________________\n",
      " Layer (type)                Output Shape              Param #   \n",
      "=================================================================\n",
      " vgg19 (Functional)          (None, 7, 7, 512)         20024384  \n",
      "                                                                 \n",
      " flatten (Flatten)           (None, 25088)             0         \n",
      "                                                                 \n",
      " dense (Dense)               (None, 256)               6422784   \n",
      "                                                                 \n",
      " dense_1 (Dense)             (None, 256)               65792     \n",
      "                                                                 \n",
      " dense_2 (Dense)             (None, 1)                 257       \n",
      "                                                                 \n",
      "=================================================================\n",
      "Total params: 26,513,217\n",
      "Trainable params: 6,488,833\n",
      "Non-trainable params: 20,024,384\n",
      "_________________________________________________________________\n"
     ]
    }
   ],
   "source": [
    "model = models.Sequential()\n",
    "\n",
    "# Freezing layers to stop them from learning (since its been trained on 'ImageNet')\n",
    "for layer in vgg_conv.layers:\n",
    "    layer.trainable = False\n",
    "\n",
    "# Check the trainable status of the individual layers\n",
    "for layer in vgg_conv.layers:\n",
    "    print(layer, layer.trainable)\n",
    "\n",
    "# Adding custon Dense layers for learning from our dataset and sigmoid layer for binary classification \n",
    "model.add(vgg_conv)\n",
    "model.add(layers.Flatten())\n",
    "model.add(layers.Dense(256, activation='relu'))\n",
    "model.add(layers.Dense(256, activation='relu'))\n",
    "model.add(layers.Dense(1, activation='sigmoid'))\n",
    "\n",
    "optimizer = optimizers.Adam(learning_rate=0.001)\n",
    "model.compile(optimizer=optimizer,\n",
    "              # loss=\"mean_squared_error\",\n",
    "              loss=\"binary_crossentropy\",\n",
    "              metrics=[\"accuracy\"])\n",
    "\n",
    "# Get Model Summary\n",
    "model.summary()\n"
   ]
  },
  {
   "cell_type": "code",
   "execution_count": 5,
   "id": "1653771b",
   "metadata": {
    "execution": {
     "iopub.execute_input": "2023-02-15T02:39:03.135748Z",
     "iopub.status.busy": "2023-02-15T02:39:03.135171Z",
     "iopub.status.idle": "2023-02-15T02:39:03.142770Z",
     "shell.execute_reply": "2023-02-15T02:39:03.141879Z",
     "shell.execute_reply.started": "2023-02-15T02:39:03.135711Z"
    }
   },
   "outputs": [],
   "source": [
    "# Initializing learning rate schedule\n",
    "lr_sched = step_decay_schedule(initial_lr=1e-3, decay_factor=0.75, step_size=2)"
   ]
  },
  {
   "cell_type": "code",
   "execution_count": 6,
   "id": "e6fb8509",
   "metadata": {
    "execution": {
     "iopub.execute_input": "2023-02-15T05:45:19.074804Z",
     "iopub.status.busy": "2023-02-15T05:45:19.074435Z",
     "iopub.status.idle": "2023-02-15T05:47:12.642614Z",
     "shell.execute_reply": "2023-02-15T05:47:12.641631Z",
     "shell.execute_reply.started": "2023-02-15T05:45:19.074774Z"
    }
   },
   "outputs": [
    {
     "name": "stdout",
     "output_type": "stream",
     "text": [
      "Found 100000 images belonging to 2 classes.\n",
      "Found 20000 images belonging to 2 classes.\n"
     ]
    }
   ],
   "source": [
    "# Reading raw data using ImageDatagenerator for Train and Valid data\n",
    "TRAINING_DIR = '/kaggle/input/140k-real-and-fake-faces/real_vs_fake/real-vs-fake/train'\n",
    "train_datagen = ImageDataGenerator()\n",
    "train_generator = train_datagen.flow_from_directory(TRAINING_DIR,target_size=(224,224),batch_size=32,class_mode='binary')\n",
    "\n",
    "VALIDATION_DIR = '/kaggle/input/140k-real-and-fake-faces/real_vs_fake/real-vs-fake/valid'\n",
    "validation_datagen = ImageDataGenerator()\n",
    "validation_generator = validation_datagen.flow_from_directory(VALIDATION_DIR,target_size=(224,224),batch_size=32,class_mode='binary')\n"
   ]
  },
  {
   "cell_type": "code",
   "execution_count": 7,
   "id": "1129639e",
   "metadata": {
    "execution": {
     "iopub.execute_input": "2023-02-15T05:47:12.646057Z",
     "iopub.status.busy": "2023-02-15T05:47:12.645493Z",
     "iopub.status.idle": "2023-02-15T05:47:31.004141Z",
     "shell.execute_reply": "2023-02-15T05:47:31.002982Z",
     "shell.execute_reply.started": "2023-02-15T05:47:12.646016Z"
    }
   },
   "outputs": [
    {
     "name": "stdout",
     "output_type": "stream",
     "text": [
      "Found 20000 images belonging to 2 classes.\n"
     ]
    }
   ],
   "source": [
    "# Reading raw data using ImageDatagenerator for Test data \n",
    "TEST_DIR = '/kaggle/input/140k-real-and-fake-faces/real_vs_fake/real-vs-fake/test'\n",
    "test_datagen = ImageDataGenerator()\n",
    "test_generator = test_datagen.flow_from_directory(TEST_DIR,target_size=(224,224),batch_size=32,class_mode='binary', shuffle=False )"
   ]
  },
  {
   "cell_type": "code",
   "execution_count": 8,
   "id": "cbc55bbd",
   "metadata": {
    "execution": {
     "iopub.execute_input": "2023-02-15T02:40:45.659570Z",
     "iopub.status.busy": "2023-02-15T02:40:45.657807Z",
     "iopub.status.idle": "2023-02-15T03:03:56.089682Z",
     "shell.execute_reply": "2023-02-15T03:03:56.088688Z",
     "shell.execute_reply.started": "2023-02-15T02:40:45.659529Z"
    }
   },
   "outputs": [
    {
     "name": "stdout",
     "output_type": "stream",
     "text": [
      "Epoch 1/9\n",
      "500/500 [==============================] - 174s 320ms/step - loss: 0.9472 - accuracy: 0.7549 - val_loss: 0.4484 - val_accuracy: 0.8062 - lr: 0.0010\n",
      "Epoch 2/9\n",
      "500/500 [==============================] - 144s 287ms/step - loss: 0.3827 - accuracy: 0.8357 - val_loss: 0.4139 - val_accuracy: 0.8219 - lr: 0.0010\n",
      "Epoch 3/9\n",
      "500/500 [==============================] - 134s 267ms/step - loss: 0.3203 - accuracy: 0.8652 - val_loss: 0.3421 - val_accuracy: 0.8562 - lr: 7.5000e-04\n",
      "Epoch 4/9\n",
      "500/500 [==============================] - 123s 245ms/step - loss: 0.3009 - accuracy: 0.8781 - val_loss: 0.2771 - val_accuracy: 0.9000 - lr: 7.5000e-04\n",
      "Epoch 5/9\n",
      "500/500 [==============================] - 115s 230ms/step - loss: 0.2624 - accuracy: 0.8950 - val_loss: 0.2833 - val_accuracy: 0.8844 - lr: 5.6250e-04\n",
      "Epoch 6/9\n",
      "500/500 [==============================] - 107s 214ms/step - loss: 0.2574 - accuracy: 0.8941 - val_loss: 0.2501 - val_accuracy: 0.9062 - lr: 5.6250e-04\n",
      "Epoch 7/9\n",
      "500/500 [==============================] - 104s 207ms/step - loss: 0.2376 - accuracy: 0.9062 - val_loss: 0.2858 - val_accuracy: 0.8875 - lr: 4.2188e-04\n",
      "Epoch 8/9\n",
      "500/500 [==============================] - 100s 199ms/step - loss: 0.2244 - accuracy: 0.9107 - val_loss: 0.2199 - val_accuracy: 0.9125 - lr: 4.2188e-04\n",
      "Epoch 9/9\n",
      "500/500 [==============================] - 98s 196ms/step - loss: 0.2115 - accuracy: 0.9172 - val_loss: 0.2875 - val_accuracy: 0.8875 - lr: 3.1641e-04\n"
     ]
    }
   ],
   "source": [
    "# Calculating Train and Valid Accuracies on Training data:\n",
    "history = model.fit(\n",
    "      train_generator,\n",
    "      steps_per_epoch=500,  # Number of images = batch_size * steps\n",
    "      epochs=9,\n",
    "      validation_data=validation_generator,\n",
    "      validation_steps=10,\n",
    "      callbacks=[lr_sched]\n",
    ")"
   ]
  },
  {
   "cell_type": "code",
   "execution_count": 9,
   "id": "ff3355f3",
   "metadata": {
    "execution": {
     "iopub.execute_input": "2023-02-15T03:03:56.092999Z",
     "iopub.status.busy": "2023-02-15T03:03:56.092345Z",
     "iopub.status.idle": "2023-02-15T03:03:56.387596Z",
     "shell.execute_reply": "2023-02-15T03:03:56.386463Z",
     "shell.execute_reply.started": "2023-02-15T03:03:56.092961Z"
    }
   },
   "outputs": [],
   "source": [
    "# Saving trained model\n",
    "model.save('vgg19.h5')"
   ]
  },
  {
   "cell_type": "markdown",
   "id": "2538161c-f4c8-49a6-b5cc-5edd7b28f94d",
   "metadata": {},
   "source": [
    "# Evaluating the Model on Test Dataset by calculating Accuracy and F1-Score:"
   ]
  },
  {
   "cell_type": "code",
   "execution_count": 17,
   "id": "7b41b753",
   "metadata": {
    "execution": {
     "iopub.execute_input": "2023-02-15T03:23:20.769963Z",
     "iopub.status.busy": "2023-02-15T03:23:20.769259Z",
     "iopub.status.idle": "2023-02-15T03:25:14.642296Z",
     "shell.execute_reply": "2023-02-15T03:25:14.641262Z",
     "shell.execute_reply.started": "2023-02-15T03:23:20.769927Z"
    }
   },
   "outputs": [
    {
     "name": "stdout",
     "output_type": "stream",
     "text": [
      "625/625 [==============================] - 114s 182ms/step - loss: 0.2850 - accuracy: 0.8870\n",
      "Test loss: 0.28501665592193604\n",
      "Test accuracy: 0.8870499730110168\n"
     ]
    }
   ],
   "source": [
    "score = model.evaluate(test_generator)\n",
    "print('Test loss:', score[0])\n",
    "print('Test accuracy:', score[1])"
   ]
  },
  {
   "cell_type": "code",
   "execution_count": 11,
   "id": "65b083d0",
   "metadata": {
    "execution": {
     "iopub.execute_input": "2023-02-15T03:07:10.448607Z",
     "iopub.status.busy": "2023-02-15T03:07:10.447965Z",
     "iopub.status.idle": "2023-02-15T03:07:10.454792Z",
     "shell.execute_reply": "2023-02-15T03:07:10.453817Z",
     "shell.execute_reply.started": "2023-02-15T03:07:10.448572Z"
    }
   },
   "outputs": [
    {
     "name": "stdout",
     "output_type": "stream",
     "text": [
      "['loss', 'accuracy']\n"
     ]
    }
   ],
   "source": [
    "print(model.metrics_names)"
   ]
  },
  {
   "cell_type": "code",
   "execution_count": 12,
   "id": "f768fa37",
   "metadata": {
    "execution": {
     "iopub.execute_input": "2023-02-15T03:07:10.457005Z",
     "iopub.status.busy": "2023-02-15T03:07:10.456062Z",
     "iopub.status.idle": "2023-02-15T03:09:32.694223Z",
     "shell.execute_reply": "2023-02-15T03:09:32.693232Z",
     "shell.execute_reply.started": "2023-02-15T03:07:10.456971Z"
    }
   },
   "outputs": [
    {
     "name": "stdout",
     "output_type": "stream",
     "text": [
      "625/625 [==============================] - 113s 181ms/step\n"
     ]
    },
    {
     "data": {
      "text/plain": [
       "array([[0],\n",
       "       [0],\n",
       "       [0],\n",
       "       ...,\n",
       "       [0],\n",
       "       [1],\n",
       "       [1]])"
      ]
     },
     "execution_count": 12,
     "metadata": {},
     "output_type": "execute_result"
    }
   ],
   "source": [
    "THRESHOLD = 0.5\n",
    "test_predict_probability = model.predict(test_generator)\n",
    "test_predict = np.where(test_predict_probability > THRESHOLD, 1, 0)\n",
    "\n",
    "test_predict"
   ]
  },
  {
   "cell_type": "code",
   "execution_count": 14,
   "id": "403c41ba",
   "metadata": {
    "execution": {
     "iopub.execute_input": "2023-02-15T03:22:47.005273Z",
     "iopub.status.busy": "2023-02-15T03:22:47.004894Z",
     "iopub.status.idle": "2023-02-15T03:22:47.418062Z",
     "shell.execute_reply": "2023-02-15T03:22:47.417203Z",
     "shell.execute_reply.started": "2023-02-15T03:22:47.005244Z"
    }
   },
   "outputs": [
    {
     "data": {
      "image/png": "[encoded data removed]",
      "text/plain": [
       "<Figure size 640x480 with 2 Axes>"
      ]
     },
     "metadata": {},
     "output_type": "display_data"
    }
   ],
   "source": [
    "cm = confusion_matrix(test_generator.classes, test_predict, labels=[0,1])\n",
    "disp = ConfusionMatrixDisplay(confusion_matrix=cm,\n",
    "                              display_labels=[0,1])\n",
    "disp.plot()\n",
    "plt.show()"
   ]
  },
  {
   "cell_type": "code",
   "execution_count": 16,
   "id": "646ab572",
   "metadata": {
    "execution": {
     "iopub.execute_input": "2023-02-15T03:23:05.170824Z",
     "iopub.status.busy": "2023-02-15T03:23:05.170231Z",
     "iopub.status.idle": "2023-02-15T03:23:05.185998Z",
     "shell.execute_reply": "2023-02-15T03:23:05.183842Z",
     "shell.execute_reply.started": "2023-02-15T03:23:05.170789Z"
    }
   },
   "outputs": [
    {
     "data": {
      "text/plain": [
       "0.8893569084586375"
      ]
     },
     "execution_count": 16,
     "metadata": {},
     "output_type": "execute_result"
    }
   ],
   "source": [
    "f1_score(test_generator.classes, test_predict)"
   ]
  },
  {
   "cell_type": "markdown",
   "id": "1a805454-c550-48ab-84d3-bda13a5ee2fa",
   "metadata": {},
   "source": [
    "# Evaluating the Model on Train and Validation Datasets by calculating F1-Score:"
   ]
  },
  {
   "cell_type": "code",
   "execution_count": 3,
   "id": "e7b46001",
   "metadata": {
    "execution": {
     "iopub.execute_input": "2023-02-15T05:42:18.628998Z",
     "iopub.status.busy": "2023-02-15T05:42:18.628214Z",
     "iopub.status.idle": "2023-02-15T05:42:23.579342Z",
     "shell.execute_reply": "2023-02-15T05:42:23.578238Z",
     "shell.execute_reply.started": "2023-02-15T05:42:18.628957Z"
    }
   },
   "outputs": [],
   "source": [
    "import tensorflow as tf\n",
    "new_model = tf.keras.models.load_model('/kaggle/working/vgg19.h5')"
   ]
  },
  {
   "cell_type": "code",
   "execution_count": 14,
   "id": "7afb6352",
   "metadata": {
    "execution": {
     "iopub.execute_input": "2023-02-15T06:26:48.227865Z",
     "iopub.status.busy": "2023-02-15T06:26:48.227489Z",
     "iopub.status.idle": "2023-02-15T06:27:57.071822Z",
     "shell.execute_reply": "2023-02-15T06:27:57.070687Z",
     "shell.execute_reply.started": "2023-02-15T06:26:48.227834Z"
    }
   },
   "outputs": [
    {
     "name": "stdout",
     "output_type": "stream",
     "text": [
      "Found 100000 images belonging to 2 classes.\n",
      "Found 20000 images belonging to 2 classes.\n"
     ]
    }
   ],
   "source": [
    "TRAINING_DIR = '/kaggle/input/140k-real-and-fake-faces/real_vs_fake/real-vs-fake/train'\n",
    "train_datagen = ImageDataGenerator()\n",
    "train_generator = train_datagen.flow_from_directory(TRAINING_DIR,target_size=(224,224),batch_size=32,class_mode='binary', shuffle=False)\n",
    "\n",
    "VALIDATION_DIR = '/kaggle/input/140k-real-and-fake-faces/real_vs_fake/real-vs-fake/valid'\n",
    "validation_datagen = ImageDataGenerator()\n",
    "validation_generator = validation_datagen.flow_from_directory(VALIDATION_DIR,target_size=(224,224),batch_size=32,class_mode='binary', shuffle=False);"
   ]
  },
  {
   "cell_type": "code",
   "execution_count": 15,
   "id": "fcfb5e04",
   "metadata": {
    "execution": {
     "iopub.execute_input": "2023-02-15T06:28:12.887677Z",
     "iopub.status.busy": "2023-02-15T06:28:12.887270Z",
     "iopub.status.idle": "2023-02-15T06:37:41.422199Z",
     "shell.execute_reply": "2023-02-15T06:37:41.421316Z",
     "shell.execute_reply.started": "2023-02-15T06:28:12.887647Z"
    }
   },
   "outputs": [
    {
     "name": "stdout",
     "output_type": "stream",
     "text": [
      "3125/3125 [==============================] - 568s 182ms/step\n"
     ]
    },
    {
     "data": {
      "text/plain": [
       "array([[0],\n",
       "       [0],\n",
       "       [0],\n",
       "       ...,\n",
       "       [1],\n",
       "       [1],\n",
       "       [1]])"
      ]
     },
     "execution_count": 15,
     "metadata": {},
     "output_type": "execute_result"
    }
   ],
   "source": [
    "THRESHOLD = 0.5\n",
    "train_predict_probability = new_model.predict(train_generator)\n",
    "train_predict = np.where(train_predict_probability > THRESHOLD, 1, 0)\n",
    "\n",
    "train_predict"
   ]
  },
  {
   "cell_type": "code",
   "execution_count": 16,
   "id": "f52e3636",
   "metadata": {
    "execution": {
     "iopub.execute_input": "2023-02-15T06:37:41.424738Z",
     "iopub.status.busy": "2023-02-15T06:37:41.424366Z",
     "iopub.status.idle": "2023-02-15T06:37:41.683275Z",
     "shell.execute_reply": "2023-02-15T06:37:41.682213Z",
     "shell.execute_reply.started": "2023-02-15T06:37:41.424691Z"
    }
   },
   "outputs": [
    {
     "data": {
      "image/png": "[encoded data removed]",
      "text/plain": [
       "<Figure size 640x480 with 2 Axes>"
      ]
     },
     "metadata": {},
     "output_type": "display_data"
    }
   ],
   "source": [
    "cm = confusion_matrix(train_generator.classes, train_predict, labels=[0,1])\n",
    "disp = ConfusionMatrixDisplay(confusion_matrix=cm,\n",
    "                              display_labels=[0,1])\n",
    "disp.plot()\n",
    "plt.show()"
   ]
  },
  {
   "cell_type": "code",
   "execution_count": 17,
   "id": "79be3095",
   "metadata": {
    "execution": {
     "iopub.execute_input": "2023-02-15T06:37:41.685070Z",
     "iopub.status.busy": "2023-02-15T06:37:41.684722Z",
     "iopub.status.idle": "2023-02-15T06:37:41.715806Z",
     "shell.execute_reply": "2023-02-15T06:37:41.714946Z",
     "shell.execute_reply.started": "2023-02-15T06:37:41.685035Z"
    }
   },
   "outputs": [
    {
     "data": {
      "text/plain": [
       "0.9258161989783366"
      ]
     },
     "execution_count": 17,
     "metadata": {},
     "output_type": "execute_result"
    }
   ],
   "source": [
    "# F1 Score\n",
    "f1_score(train_generator.classes, train_predict)"
   ]
  },
  {
   "cell_type": "code",
   "execution_count": 18,
   "id": "5f71c443",
   "metadata": {
    "execution": {
     "iopub.execute_input": "2023-02-15T06:37:41.718740Z",
     "iopub.status.busy": "2023-02-15T06:37:41.718242Z",
     "iopub.status.idle": "2023-02-15T06:39:35.815166Z",
     "shell.execute_reply": "2023-02-15T06:39:35.814228Z",
     "shell.execute_reply.started": "2023-02-15T06:37:41.718700Z"
    }
   },
   "outputs": [
    {
     "name": "stdout",
     "output_type": "stream",
     "text": [
      "625/625 [==============================] - 114s 182ms/step\n"
     ]
    },
    {
     "data": {
      "text/plain": [
       "array([[1],\n",
       "       [0],\n",
       "       [1],\n",
       "       ...,\n",
       "       [1],\n",
       "       [1],\n",
       "       [1]])"
      ]
     },
     "execution_count": 18,
     "metadata": {},
     "output_type": "execute_result"
    }
   ],
   "source": [
    "THRESHOLD = 0.5\n",
    "val_predict_probability = new_model.predict(validation_generator)\n",
    "val_predict = np.where(val_predict_probability > THRESHOLD, 1, 0)\n",
    "\n",
    "val_predict"
   ]
  },
  {
   "cell_type": "code",
   "execution_count": 19,
   "id": "637d9932",
   "metadata": {
    "execution": {
     "iopub.execute_input": "2023-02-15T06:39:35.816812Z",
     "iopub.status.busy": "2023-02-15T06:39:35.816460Z",
     "iopub.status.idle": "2023-02-15T06:39:36.058570Z",
     "shell.execute_reply": "2023-02-15T06:39:36.057582Z",
     "shell.execute_reply.started": "2023-02-15T06:39:35.816775Z"
    }
   },
   "outputs": [
    {
     "data": {
      "image/png": "[encoded data removed]",
      "text/plain": [
       "<Figure size 640x480 with 2 Axes>"
      ]
     },
     "metadata": {},
     "output_type": "display_data"
    }
   ],
   "source": [
    "cm = confusion_matrix(validation_generator.classes, val_predict, labels=[0,1])\n",
    "disp = ConfusionMatrixDisplay(confusion_matrix=cm,\n",
    "                              display_labels=[0,1])\n",
    "disp.plot()\n",
    "plt.show()"
   ]
  },
  {
   "cell_type": "code",
   "execution_count": 20,
   "id": "fd53a703",
   "metadata": {
    "execution": {
     "iopub.execute_input": "2023-02-15T06:39:36.060225Z",
     "iopub.status.busy": "2023-02-15T06:39:36.059862Z",
     "iopub.status.idle": "2023-02-15T06:39:36.075086Z",
     "shell.execute_reply": "2023-02-15T06:39:36.073173Z",
     "shell.execute_reply.started": "2023-02-15T06:39:36.060188Z"
    }
   },
   "outputs": [
    {
     "data": {
      "text/plain": [
       "0.8906760247599552"
      ]
     },
     "execution_count": 20,
     "metadata": {},
     "output_type": "execute_result"
    }
   ],
   "source": [
    "# F1 Score\n",
    "f1_score(validation_generator.classes, val_predict)"
   ]
  },
  {
   "cell_type": "code",
   "execution_count": null,
   "id": "1fb62baf",
   "metadata": {},
   "outputs": [],
   "source": []
  }
 ],
 "metadata": {
  "kernelspec": {
   "display_name": "Python 3 (ipykernel)",
   "language": "python",
   "name": "python3"
  },
  "language_info": {
   "codemirror_mode": {
    "name": "ipython",
    "version": 3
   },
   "file_extension": ".py",
   "mimetype": "text/x-python",
   "name": "python",
   "nbconvert_exporter": "python",
   "pygments_lexer": "ipython3",
   "version": "3.9.12"
  }
 },
 "nbformat": 4,
 "nbformat_minor": 5
}
